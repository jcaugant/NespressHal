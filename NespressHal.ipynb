{
 "cells": [
  {
   "cell_type": "code",
   "execution_count": 2,
   "metadata": {},
   "outputs": [
    {
     "name": "stdout",
     "output_type": "stream",
     "text": [
      "Requirement already satisfied: selenium in c:\\users\\caugant\\anaconda3\\lib\\site-packages (from -r requirements.txt (line 1)) (3.141.0)Note: you may need to restart the kernel to use updated packages.\n",
      "Requirement already satisfied: bs4 in c:\\users\\caugant\\anaconda3\\lib\\site-packages (from -r requirements.txt (line 2)) (0.0.1)\n",
      "Requirement already satisfied: requests in c:\\users\\caugant\\anaconda3\\lib\\site-packages (from -r requirements.txt (line 3)) (2.24.0)\n",
      "Requirement already satisfied: urllib3 in c:\\users\\caugant\\anaconda3\\lib\\site-packages (from selenium->-r requirements.txt (line 1)) (1.25.11)\n",
      "Requirement already satisfied: beautifulsoup4 in c:\\users\\caugant\\anaconda3\\lib\\site-packages (from bs4->-r requirements.txt (line 2)) (4.9.3)\n",
      "Requirement already satisfied: chardet<4,>=3.0.2 in c:\\users\\caugant\\anaconda3\\lib\\site-packages (from requests->-r requirements.txt (line 3)) (3.0.4)\n",
      "Requirement already satisfied: certifi>=2017.4.17 in c:\\users\\caugant\\anaconda3\\lib\\site-packages (from requests->-r requirements.txt (line 3)) (2020.6.20)\n",
      "Requirement already satisfied: idna<3,>=2.5 in c:\\users\\caugant\\anaconda3\\lib\\site-packages (from requests->-r requirements.txt (line 3)) (2.10)\n",
      "Requirement already satisfied: soupsieve>1.2; python_version >= \"3.0\" in c:\\users\\caugant\\anaconda3\\lib\\site-packages (from beautifulsoup4->bs4->-r requirements.txt (line 2)) (2.0.1)\n",
      "\n"
     ]
    }
   ],
   "source": [
    "pip install -r requirements.txt"
   ]
  },
  {
   "cell_type": "code",
   "execution_count": null,
   "metadata": {},
   "outputs": [
    {
     "name": "stdout",
     "output_type": "stream",
     "text": [
      "Bienvenue sur NespressHal ! Votre login et votre mot de passe vont vous être demandés\n",
      " mais aucune information ne sera collectée ou conservée, pas d'inquiétude! \n",
      "Script créé par J. Caugant, Cellule Science Ouverte du SCD d'Aix-Marseille Université, sous licence GNU-GPL\n",
      "Entrez votre login HAL : jcaugant\n",
      "Entrez votre mot de passe HAL : juca1408..\n",
      "Entrez le numéro de votre structure : 198056\n",
      "Entrez l'url de votre portail HAL : https://amu.hal.science/\n",
      "Entrez le nom de la revue dont vous souhaitez ajouter le texte sur HAL : MDPI\n"
     ]
    }
   ],
   "source": [
    "# import des librairies\n",
    "from selenium import webdriver\n",
    "from selenium.webdriver.firefox.options import Options\n",
    "from selenium.webdriver.common.keys import Keys\n",
    "from selenium.webdriver.common.by import By\n",
    "import requests as rq, json, time\n",
    "from bs4 import BeautifulSoup as bs\n",
    "\n",
    "# Message d'accueil\n",
    "\n",
    "print(\"Bienvenue sur NespressHal ! Votre login et votre mot de passe vont vous être demandés\")\n",
    "print(\" mais aucune information ne sera collectée ou conservée, pas d'inquiétude! \")\n",
    "print(\"Script créé par J. Caugant, Cellule Science Ouverte du SCD d'Aix-Marseille Université, sous licence GNU-GPL\")\n",
    "\n",
    "# Récupération des informations nécessaires\n",
    "\n",
    "my_login = input(\"Entrez votre login HAL : \")\n",
    "my_pass = input(\"Entrez votre mot de passe HAL : \")\n",
    "my_struct = input(\"Entrez le numéro de votre structure : \")\n",
    "portail = input(\"Entrez l'url de votre portail HAL : \")\n",
    "review = input(\"Entrez le nom de la revue dont vous souhaitez ajouter le texte sur HAL : \")\n",
    "\n",
    "# Création de la fonction de connexion à HAL\n",
    "\n",
    "def identify(login, password):\n",
    "    driver.get('https://cas.ccsd.cnrs.fr/cas/login?service=https%3A%2F%2Fhal.science%2Fuser%2Flogin%3Furl%3Dhttps%253A%252F%252Fhal.science%252F')\n",
    "    time.sleep(3)\n",
    "    login = driver.find_element(By.NAME, \"username\")\n",
    "    login.send_keys(my_login)\n",
    "    password = driver.find_element(By.NAME, \"password\")\n",
    "    password.send_keys(my_pass)\n",
    "    driver.find_element(By.NAME, \"submit\").click()\n",
    "    \n",
    "# Création de l'API à partir de laquelle le script va récupérer les notices en OA\n",
    "\n",
    "url = f\"https://api.archives-ouvertes.fr/search/?&wt=json&rows=200&fq=structId_i:{my_struct}&fq=(submitType_s:notice%20AND%20openAccess_bool:(true)%20AND%20journalPublisher_s:%22{review}%22)&fl=halId_s\"\n",
    "req = rq.get(url)\n",
    "req = req.json()\n",
    "liste_id = []\n",
    "\n",
    "# Récupération de tous les identifiants HAL des notices concernées\n",
    "for i in range(len(req['response']['docs'])):\n",
    "    liste_id.append(req['response']['docs'][i]['halId_s'])\n",
    "\n",
    "# Exécution de l'alimentation du texte sur les notices\n",
    "\n",
    "for id in liste_id:\n",
    "    options = Options()\n",
    "    options.binary_location = r'C:\\Program Files\\Mozilla Firefox\\firefox.exe'\n",
    "    driver = webdriver.Firefox(executable_path=r'geckodriver.exe', options=options)\n",
    "    identify(my_login, my_pass)\n",
    "    time.sleep(5)\n",
    "    url = portail+\"/\"+id\n",
    "    req = rq.get(url)\n",
    "    time.sleep(2)\n",
    "    result = req.content\n",
    "    soup = bs(result,'html.parser')\n",
    "    lien_text = soup.find('div', attrs={'class': 'section-content section-shadow hal-visualize-button widget-files'}).find(\"a\").get(\"href\")\n",
    "    req = rq.get(lien_text)\n",
    "    get_url = req.url\n",
    "    time.sleep(5)\n",
    "    time.sleep(5)\n",
    "    driver.get(url)\n",
    "    time.sleep(2)\n",
    "    driver.find_element(By.CLASS_NAME, \"hal-login-button\").click()\n",
    "    time.sleep(4)\n",
    "    try :\n",
    "        driver.find_element(By.CLASS_NAME, \"icon-add_file\").click()\n",
    "        time.sleep(5)\n",
    "        driver.find_element(By.CLASS_NAME, \"btn-link\").click()\n",
    "        time.sleep(3)\n",
    "        driver.find_element(By.CLASS_NAME, \"form-control\").send_keys(get_url)\n",
    "        time.sleep(3)\n",
    "        driver.find_element(By.CLASS_NAME, \"btn-confirm\").click()\n",
    "        time.sleep(10)\n",
    "        driver.find_element(By.NAME, \"accept_licence\").click()\n",
    "        time.sleep(5)\n",
    "        driver.find_element(By.NAME, \"accept_licence\").click()\n",
    "        time.sleep(5)\n",
    "        driver.find_element(By.ID, \"submission-btn\").click()\n",
    "        time.sleep(15)\n",
    "        driver.close()\n",
    "    except :\n",
    "        time.sleep(5)\n",
    "        driver.close()\n",
    "\n",
    "\n",
    "\n",
    "\n",
    "\n"
   ]
  },
  {
   "cell_type": "code",
   "execution_count": null,
   "metadata": {},
   "outputs": [],
   "source": []
  }
 ],
 "metadata": {
  "kernelspec": {
   "display_name": "Python 3",
   "language": "python",
   "name": "python3"
  },
  "language_info": {
   "codemirror_mode": {
    "name": "ipython",
    "version": 3
   },
   "file_extension": ".py",
   "mimetype": "text/x-python",
   "name": "python",
   "nbconvert_exporter": "python",
   "pygments_lexer": "ipython3",
   "version": "3.8.5"
  }
 },
 "nbformat": 4,
 "nbformat_minor": 4
}
